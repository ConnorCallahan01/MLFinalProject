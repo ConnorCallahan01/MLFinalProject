{
 "cells": [
  {
   "cell_type": "markdown",
   "metadata": {},
   "source": [
    "# CSCI 184 Machine Learning Final Project: Inflation Detector\n",
    "# Group Members: Arjun Chimni, Patrick Callahan, Andrew Schulz\n"
   ]
  },
  {
   "cell_type": "markdown",
   "metadata": {},
   "source": [
    "## Project Idea: \t\n",
    "  >With the recent CPI numbers coming out and a recession on the loom, we wanted to identify what conditions cause inflation before the inflation happens. We think that this topic is especially pertinent at the current moment. We want to identify the features/conditions under which inflation happens and try to predict if there will be inflation to the money supply. \n",
    "  \n",
    "  >To do this, we will analyze employment data, CPI (consumer price index), PPI (producer price index), and confidence indexes in order to obtain an idea about what causes inflation and how to detect it early. We will train historical data of all these features to draw conclusions.\n",
    "  \n",
    "  > Ideally, the program will be able to suggest some sort of action in order to combat inflation or just general advice for the average consumer heading into a high inflation landscape.\n",
    "\n"
   ]
  },
  {
   "cell_type": "markdown",
   "metadata": {},
   "source": [
    "## Step 1: Upload the the .csv files that we will be using for the project\n",
    "> Here we used data from the following sources: \n",
    "* https://www.kaggle.com/datasets/varpit94/us-inflation-data-updated-till-may-2021 : U.S. Inflation Data\n",
    "* https://www.kaggle.com/datasets/federalreserve/interest-rates : Federal Reserve INterest Rates (1954-Present)\n",
    "* https://www.kaggle.com/datasets/ambrosm/oecd-consumer-confidence-index : OECD Consumer Confidence Index\n",
    "    "
   ]
  },
  {
   "cell_type": "code",
   "execution_count": 1,
   "metadata": {},
   "outputs": [],
   "source": [
    "import pandas as pd\n",
    "import csv\n",
    "\n",
    "#opening the data and initializing the variables associated with the data. \n",
    "inflation_dt = pd.read_csv(\"US CPI.csv\")\n",
    "fed_res_inrts = pd.read_csv(\"index.csv\")\n",
    "cus_conf_index = pd.read_csv(\"cus_conf_index.csv\")\n"
   ]
  },
  {
   "cell_type": "code",
   "execution_count": 2,
   "metadata": {},
   "outputs": [],
   "source": [
    "# Now we want to initially convert the data into a dataframe so we can explore how we should begin preprocessing the data. \n",
    "\n",
    "inflation_dt_df = pd.DataFrame(data = inflation_dt)\n",
    "fed_res_inrts_df = pd.DataFrame(data = fed_res_inrts)\n",
    "cus_conf_index_df = pd.DataFrame(data = cus_conf_index)"
   ]
  },
  {
   "cell_type": "code",
   "execution_count": 4,
   "metadata": {},
   "outputs": [
    {
     "name": "stdout",
     "output_type": "stream",
     "text": [
      "These are the columns and datatypes for 'U.S. Inflation Data' dataset: \n",
      "Yearmon     object\n",
      "CPI        float64\n",
      "dtype: object\n",
      "The shape of the dataframe is:  (1303, 2)\n",
      "\n",
      "These are the columns and datatypes for 'Federal Reserve INterest Rates (1954-Present)' dataset: \n",
      "Year                              int64\n",
      "Month                             int64\n",
      "Day                               int64\n",
      "Federal Funds Target Rate       float64\n",
      "Federal Funds Upper Target      float64\n",
      "Federal Funds Lower Target      float64\n",
      "Effective Federal Funds Rate    float64\n",
      "Real GDP (Percent Change)       float64\n",
      "Unemployment Rate               float64\n",
      "Inflation Rate                  float64\n",
      "dtype: object\n",
      "The shape of the dataframe is:  (904, 10)\n",
      "\n",
      "These are the columns and datatypes for 'OECD Consumer Confidence Index' dataset: \n",
      "LOCATION       object\n",
      "INDICATOR      object\n",
      "SUBJECT        object\n",
      "MEASURE        object\n",
      "FREQUENCY      object\n",
      "TIME           object\n",
      "Value         float64\n",
      "Flag Codes    float64\n",
      "dtype: object\n",
      "The shape of the dataframe is:  (18226, 8)\n",
      "\n"
     ]
    }
   ],
   "source": [
    "# Now that the data is of the dataframe type, we can explore the features and understand the target variable that we are looking to predict\n",
    "print(\"These are the columns and datatypes for 'U.S. Inflation Data' dataset: \")\n",
    "print(inflation_dt_df.dtypes)\n",
    "print(\"The shape of the dataframe is: \", inflation_dt_df.shape)\n",
    "print()\n",
    "print(\"These are the columns and datatypes for 'Federal Reserve INterest Rates (1954-Present)' dataset: \")\n",
    "print(fed_res_inrts_df.dtypes)\n",
    "print(\"The shape of the dataframe is: \", fed_res_inrts_df.shape)\n",
    "print()\n",
    "print(\"These are the columns and datatypes for 'OECD Consumer Confidence Index' dataset: \")\n",
    "print(cus_conf_index_df.dtypes)\n",
    "print(\"The shape of the dataframe is: \", cus_conf_index_df.shape)\n",
    "print()"
   ]
  },
  {
   "cell_type": "markdown",
   "metadata": {},
   "source": [
    "## Step 2: Merging the Data\n",
    "> Before we begin with full preprocessing, we want to merge all the data sets together into one ordered dataset so we can observe the power of all the features when building out our predictive model. \n",
    "\n",
    "> To do this, we noticed that all the datasets have a date/time feature that we can use to align the datasets and match the data. The following code is the process we took to do this. "
   ]
  },
  {
   "cell_type": "code",
   "execution_count": 7,
   "metadata": {},
   "outputs": [
    {
     "name": "stdout",
     "output_type": "stream",
     "text": [
      "The 'time' feature of dataset 'U.S. Inflation Data' is: \n",
      "<bound method NDFrame.head of 0       01-01-1913\n",
      "1       01-02-1913\n",
      "2       01-03-1913\n",
      "3       01-04-1913\n",
      "4       01-05-1913\n",
      "           ...    \n",
      "1298    01-03-2021\n",
      "1299    01-04-2021\n",
      "1300    01-05-2021\n",
      "1301    01-06-2021\n",
      "1302    01-07-2021\n",
      "Name: Yearmon, Length: 1303, dtype: object>\n",
      "The 'time' feature of dataset 'Federal Reserve INterest Rates (1954-Present)' is: \n",
      "<bound method NDFrame.head of 0      1954\n",
      "1      1954\n",
      "2      1954\n",
      "3      1954\n",
      "4      1954\n",
      "       ... \n",
      "899    2016\n",
      "900    2017\n",
      "901    2017\n",
      "902    2017\n",
      "903    2017\n",
      "Name: Year, Length: 904, dtype: int64> <bound method NDFrame.head of 0       7\n",
      "1       8\n",
      "2       9\n",
      "3      10\n",
      "4      11\n",
      "       ..\n",
      "899    12\n",
      "900     1\n",
      "901     2\n",
      "902     3\n",
      "903     3\n",
      "Name: Month, Length: 904, dtype: int64>\n",
      "The 'time' feature of dataset 'OECD Consumer Confidence Index' is: \n",
      "<bound method NDFrame.head of 0        1973-01\n",
      "1        1973-02\n",
      "2        1973-03\n",
      "3        1973-04\n",
      "4        1973-05\n",
      "          ...   \n",
      "18221    2021-07\n",
      "18222    2021-08\n",
      "18223    2021-09\n",
      "18224    2021-10\n",
      "18225    2021-11\n",
      "Name: TIME, Length: 18226, dtype: object>\n"
     ]
    }
   ],
   "source": [
    "# To complete the merge, we must first observe how each date is formated in each dataset\n",
    "print(\"The 'time' feature of dataset 'U.S. Inflation Data' is: \")\n",
    "print(inflation_dt_df['Yearmon'].head)\n",
    "print(\"The 'time' feature of dataset 'Federal Reserve INterest Rates (1954-Present)' is: \")\n",
    "print(fed_res_inrts_df['Year'].head, fed_res_inrts_df['Month'].head)\n",
    "print(\"The 'time' feature of dataset 'OECD Consumer Confidence Index' is: \")\n",
    "print(cus_conf_index_df['TIME'].head)"
   ]
  },
  {
   "cell_type": "code",
   "execution_count": null,
   "metadata": {},
   "outputs": [],
   "source": [
    "# With this, we can now structure the data for each dataset into a new column named 'Year-Month' with the format to be YYYY-MM. This will allow easier matching when we perform the merging process. \n",
    "# The easiest way to perform restructuring for the data is to create a function that perform this process that can be called for each dataset:\n",
    "    #PARAMETERS: \n",
    "    #           --> dataset = the given dataset that the process will be performed on \n",
    "    #           --> columns = the necessary columns that will be used in the process\n",
    "    #RETURN: \n",
    "    #           --> The inputted dataset with a new column named 'Year-Month' for each dataset and the columns that were inputted are now dropped. \n",
    "\n",
    "def restructure(dataset, columns):\n",
    "    if \n",
    "    return columns"
   ]
  }
 ],
 "metadata": {
  "interpreter": {
   "hash": "aee8b7b246df8f9039afb4144a1f6fd8d2ca17a180786b69acc140d282b71a49"
  },
  "kernelspec": {
   "display_name": "Python 3.9.6 64-bit",
   "language": "python",
   "name": "python3"
  },
  "language_info": {
   "codemirror_mode": {
    "name": "ipython",
    "version": 3
   },
   "file_extension": ".py",
   "mimetype": "text/x-python",
   "name": "python",
   "nbconvert_exporter": "python",
   "pygments_lexer": "ipython3",
   "version": "3.9.6"
  }
 },
 "nbformat": 4,
 "nbformat_minor": 4
}
